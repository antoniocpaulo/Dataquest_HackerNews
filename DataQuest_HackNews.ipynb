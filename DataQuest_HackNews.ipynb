{
 "cells": [
  {
   "cell_type": "markdown",
   "metadata": {
    "collapsed": true
   },
   "source": [
    "# Hacker News \n",
    "\n",
    "Hacker News is a site started by the startup incubator Y Combinator, where user-submitted stories (known as \"posts\") are voted and commented upon, similar to reddit. Hacker News is extremely popular in technology and startup circles, and posts that make it to the top of Hacker News' listings can get hundreds of thousands of visitors as a result. \n",
    "\n",
    "The present analysis intends to determine which of type of post, `Ask HN` or `Show HN`, receive more comments on average. Plus, the time component is introduced to check if there is a posting time that receives more comments on average.\n",
    "\n",
    "The current data set has approximately 20,000 rows with each row containing the following columns:\n",
    "* `id`: The unique identifier from Hacker News for the post\n",
    "* `title`: The title of the post\n",
    "* `url`: The URL that the posts links to, if it the post has a URL\n",
    "* `num_points`: The number of points the post acquired, calculated as the total number of upvotes minus the total number of downvotes\n",
    "* `num_comments`: The number of comments that were made on the post\n",
    "* `author`: The username of the person who submitted the post\n",
    "* `created_at`: The date and time at which the post was submitted"
   ]
  },
  {
   "cell_type": "markdown",
   "metadata": {},
   "source": [
    "---\n",
    "## Read and Store file in dataset variable `hn`\n",
    "\n",
    "Below `reader` class form `csv` module is used to read `.csv` file, which is then stored under `hn` variable."
   ]
  },
  {
   "cell_type": "code",
   "execution_count": 1,
   "metadata": {
    "collapsed": false
   },
   "outputs": [
    {
     "name": "stdout",
     "output_type": "stream",
     "text": [
      "['id', 'title', 'url', 'num_points', 'num_comments', 'author', 'created_at']\n",
      "\n",
      "\n",
      "['12224879', 'Interactive Dynamic Video', 'http://www.interactivedynamicvideo.com/', '386', '52', 'ne0phyte', '8/4/2016 11:52']\n",
      "\n",
      "\n",
      "['10975351', 'How to Use Open Source and Shut the Fuck Up at the Same Time', 'http://hueniverse.com/2016/01/26/how-to-use-open-source-and-shut-the-fuck-up-at-the-same-time/', '39', '10', 'josep2', '1/26/2016 19:30']\n",
      "\n",
      "\n",
      "['11964716', \"Florida DJs May Face Felony for April Fools' Water Joke\", 'http://www.thewire.com/entertainment/2013/04/florida-djs-april-fools-water-joke/63798/', '2', '1', 'vezycash', '6/23/2016 22:20']\n",
      "\n",
      "\n",
      "['11919867', 'Technology ventures: From Idea to Enterprise', 'https://www.amazon.com/Technology-Ventures-Enterprise-Thomas-Byers/dp/0073523429', '3', '1', 'hswarna', '6/17/2016 0:01']\n",
      "\n",
      "\n"
     ]
    }
   ],
   "source": [
    "from csv import reader\n",
    "hn = list(reader(open(\"hacker_news.csv\")))\n",
    "\n",
    "def print_first_5_rows(dataset):\n",
    "    for row in dataset[:5]:\n",
    "        print(row)\n",
    "        print('\\n')\n",
    "\n",
    "print_first_5_rows(hn)"
   ]
  },
  {
   "cell_type": "markdown",
   "metadata": {},
   "source": [
    "---\n",
    "## Separate header row from dataset"
   ]
  },
  {
   "cell_type": "code",
   "execution_count": 2,
   "metadata": {
    "collapsed": false
   },
   "outputs": [
    {
     "name": "stdout",
     "output_type": "stream",
     "text": [
      "['id', 'title', 'url', 'num_points', 'num_comments', 'author', 'created_at']\n",
      "['12224879', 'Interactive Dynamic Video', 'http://www.interactivedynamicvideo.com/', '386', '52', 'ne0phyte', '8/4/2016 11:52']\n",
      "\n",
      "\n",
      "['10975351', 'How to Use Open Source and Shut the Fuck Up at the Same Time', 'http://hueniverse.com/2016/01/26/how-to-use-open-source-and-shut-the-fuck-up-at-the-same-time/', '39', '10', 'josep2', '1/26/2016 19:30']\n",
      "\n",
      "\n",
      "['11964716', \"Florida DJs May Face Felony for April Fools' Water Joke\", 'http://www.thewire.com/entertainment/2013/04/florida-djs-april-fools-water-joke/63798/', '2', '1', 'vezycash', '6/23/2016 22:20']\n",
      "\n",
      "\n",
      "['11919867', 'Technology ventures: From Idea to Enterprise', 'https://www.amazon.com/Technology-Ventures-Enterprise-Thomas-Byers/dp/0073523429', '3', '1', 'hswarna', '6/17/2016 0:01']\n",
      "\n",
      "\n",
      "['10301696', 'Note by Note: The Making of Steinway L1037 (2007)', 'http://www.nytimes.com/2007/11/07/movies/07stein.html?_r=0', '8', '2', 'walterbell', '9/30/2015 4:12']\n",
      "\n",
      "\n"
     ]
    }
   ],
   "source": [
    "headers = hn[0]\n",
    "hn = hn[1:]\n",
    "\n",
    "print(headers)\n",
    "print_first_5_rows(hn)"
   ]
  },
  {
   "cell_type": "markdown",
   "metadata": {},
   "source": [
    "---\n",
    "## Create lists containing `Ask HN` and `Show HN` rows\n",
    "\n",
    "Below dataset rows will be split into 3 lists, `ask_posts` will be used for the `Ask HN` (stores the questions asked in Hacker News platform), `show_posts` list to store `Show HN` rows (stores posts of users that want to show something), and the remaining rows shall be stored under `other_posts`."
   ]
  },
  {
   "cell_type": "code",
   "execution_count": 3,
   "metadata": {
    "collapsed": false
   },
   "outputs": [
    {
     "name": "stdout",
     "output_type": "stream",
     "text": [
      "The number of posts in ask_posts is: 1744\n",
      "The number of posts in show_posts is: 1162\n",
      "The number of posts in other_posts is: 17194\n"
     ]
    }
   ],
   "source": [
    "ask_posts = []\n",
    "show_posts = []\n",
    "other_posts = []\n",
    "\n",
    "for row in hn:\n",
    "    title = row[1]\n",
    "    if title.lower().startswith('ask hn'):\n",
    "        ask_posts.append(row)\n",
    "    elif title.lower().startswith('show hn'):\n",
    "        show_posts.append(row)\n",
    "    else:\n",
    "        other_posts.append(row)\n",
    "\n",
    "#check number of posts in ask_posts, show_posts and other_posts\n",
    "print('The number of posts in ask_posts is: {}'.format(len(ask_posts)))\n",
    "print('The number of posts in show_posts is: {}'.format(len(show_posts)))\n",
    "print('The number of posts in other_posts is: {}'.format(len(other_posts)))"
   ]
  },
  {
   "cell_type": "markdown",
   "metadata": {},
   "source": [
    "---\n",
    "## Which type of post receives more comments on average?\n",
    "\n",
    "Determine which list `ask_posts` or `show_posts` contain more comments."
   ]
  },
  {
   "cell_type": "code",
   "execution_count": 4,
   "metadata": {
    "collapsed": false
   },
   "outputs": [
    {
     "name": "stdout",
     "output_type": "stream",
     "text": [
      "The average number of comments in ask_posts is: 14.04\n",
      "The average number of comments in show_posts is: 10.32\n"
     ]
    }
   ],
   "source": [
    "total_ask_comments = 0\n",
    "for row in ask_posts:\n",
    "    total_ask_comments += int(row[4])\n",
    "\n",
    "avg_ask_comments = total_ask_comments / len(ask_posts)\n",
    "print('The average number of comments in ask_posts is: {:.2f}'.format(avg_ask_comments))    \n",
    "\n",
    "total_show_comments = 0\n",
    "for row in show_posts:\n",
    "    total_show_comments += int(row[4])\n",
    "\n",
    "avg_show_comments = total_show_comments / len(show_posts)\n",
    "print('The average number of comments in show_posts is: {:.2f}'.format(avg_show_comments))    \n"
   ]
  },
  {
   "cell_type": "markdown",
   "metadata": {},
   "source": [
    "As the average number of comments in `ask_posts` is almost 40% larger than that of the `show_posts`, there is a clear tendency that posts containg questions received more adherence from the Hacker News community. \n",
    "\n",
    "For the next step - \"if there is a best period to post\" - one will only use the `ask_posts` list."
   ]
  },
  {
   "cell_type": "markdown",
   "metadata": {},
   "source": [
    "---\n",
    "## Posting time vs number of comments\n",
    "\n",
    "If ask posts are created at a certain time are they more likely to attract a larger number of comments? We'll use the following steps to perform this analysis:\n",
    "\n",
    "* Calculate the amount of ask posts created in each hour of the day, along with the number of comments received.\n",
    "* Calculate the average number of comments ask posts receive by hour created."
   ]
  },
  {
   "cell_type": "code",
   "execution_count": 5,
   "metadata": {
    "collapsed": false
   },
   "outputs": [],
   "source": [
    "# start by importing datetime module to transform dates in datetime objects\n",
    "import datetime as dt\n",
    "\n",
    "results_list = []\n",
    "for row in ask_posts:\n",
    "    created_at = row[6]\n",
    "    n_comments = int(row[4])\n",
    "    results_list.append([created_at, n_comments])\n",
    "    \n",
    "counts_by_hour = {}\n",
    "comments_by_hour = {}\n",
    "date_format = \"%m/%d/%Y %H:%M\"\n",
    "for row in results_list:\n",
    "    date = dt.datetime.strptime(row[0], date_format)\n",
    "    hour = date.strftime(\"%H\")\n",
    "    n_comments = row[1]\n",
    "    if hour in counts_by_hour:\n",
    "        counts_by_hour[hour] += 1\n",
    "        comments_by_hour[hour] += n_comments\n",
    "    else:\n",
    "        counts_by_hour[hour] = 1\n",
    "        comments_by_hour[hour] = n_comments\n",
    "        "
   ]
  },
  {
   "cell_type": "code",
   "execution_count": 6,
   "metadata": {
    "collapsed": false
   },
   "outputs": [
    {
     "name": "stdout",
     "output_type": "stream",
     "text": [
      "The average number of comments in hour: 00 is 8.13\n",
      "The average number of comments in hour: 01 is 11.38\n",
      "The average number of comments in hour: 02 is 23.81\n",
      "The average number of comments in hour: 03 is 7.80\n",
      "The average number of comments in hour: 04 is 7.17\n",
      "The average number of comments in hour: 05 is 10.09\n",
      "The average number of comments in hour: 06 is 9.02\n",
      "The average number of comments in hour: 07 is 7.85\n",
      "The average number of comments in hour: 08 is 10.25\n",
      "The average number of comments in hour: 09 is 5.58\n",
      "The average number of comments in hour: 10 is 13.44\n",
      "The average number of comments in hour: 11 is 11.05\n",
      "The average number of comments in hour: 12 is 9.41\n",
      "The average number of comments in hour: 13 is 14.74\n",
      "The average number of comments in hour: 14 is 13.23\n",
      "The average number of comments in hour: 15 is 38.59\n",
      "The average number of comments in hour: 16 is 16.80\n",
      "The average number of comments in hour: 17 is 11.46\n",
      "The average number of comments in hour: 18 is 13.20\n",
      "The average number of comments in hour: 19 is 10.80\n",
      "The average number of comments in hour: 20 is 21.52\n",
      "The average number of comments in hour: 21 is 16.01\n",
      "The average number of comments in hour: 22 is 6.75\n",
      "The average number of comments in hour: 23 is 7.99\n"
     ]
    }
   ],
   "source": [
    "# calculate the average number of comments for posts created during each hour of the day.\n",
    "avg_by_hour = []\n",
    "for hour in counts_by_hour:\n",
    "    average = comments_by_hour[hour] / counts_by_hour[hour]\n",
    "    avg_by_hour.append([hour, average])\n",
    "\n",
    "for row in sorted(avg_by_hour):\n",
    "    print(\"The average number of comments in hour: {} is {:.2f}\".format(row[0], row[1]))\n"
   ]
  },
  {
   "cell_type": "markdown",
   "metadata": {},
   "source": [
    "To make the result analysis easier another list is going to be created which will store first the number of comments per hour and then the corresponding hour."
   ]
  },
  {
   "cell_type": "code",
   "execution_count": 7,
   "metadata": {
    "collapsed": false
   },
   "outputs": [
    {
     "name": "stdout",
     "output_type": "stream",
     "text": [
      "[[8.127272727272727, '00'], [11.383333333333333, '01'], [23.810344827586206, '02'], [11.051724137931034, '11'], [11.46, '17'], [10.8, '19'], [38.5948275862069, '15'], [9.41095890410959, '12'], [9.022727272727273, '06'], [5.5777777777777775, '09'], [21.525, '20'], [13.233644859813085, '14'], [6.746478873239437, '22'], [7.796296296296297, '03'], [16.009174311926607, '21'], [10.25, '08'], [13.440677966101696, '10'], [7.852941176470588, '07'], [14.741176470588234, '13'], [10.08695652173913, '05'], [13.20183486238532, '18'], [7.985294117647059, '23'], [16.796296296296298, '16'], [7.170212765957447, '04']]\n"
     ]
    }
   ],
   "source": [
    "swap_avg_by_hour = []\n",
    "for row in avg_by_hour:\n",
    "    swap_avg_by_hour.append([row[1], row[0]])\n",
    "\n",
    "print(swap_avg_by_hour)"
   ]
  },
  {
   "cell_type": "code",
   "execution_count": 9,
   "metadata": {
    "collapsed": false
   },
   "outputs": [
    {
     "name": "stdout",
     "output_type": "stream",
     "text": [
      "Top 5 Hours for Ask Posts Comments\n",
      "15:00: 38.59 average comments per post\n",
      "02:00: 23.81 average comments per post\n",
      "20:00: 21.52 average comments per post\n",
      "16:00: 16.80 average comments per post\n",
      "21:00: 16.01 average comments per post\n",
      "13:00: 14.74 average comments per post\n"
     ]
    }
   ],
   "source": [
    "# Use the sorted() function to sort swap_avg_by_hour in descending order. \n",
    "sorted_swap = sorted(swap_avg_by_hour, reverse=True)\n",
    "\n",
    "print(\"Top 5 Hours for Ask Posts Comments\")\n",
    "for row in sorted_swap[:6]:\n",
    "    date = dt.datetime.strptime(row[1], \"%H\")\n",
    "    time = date.strftime(\"%H:%M\")\n",
    "    print(\"{}: {:.2f} average comments per post\".format(time, row[0]))"
   ]
  },
  {
   "cell_type": "markdown",
   "metadata": {},
   "source": [
    "Taking into account the results shown above and that my timezone is GMT (Greenwich Meridian Time) and that of the dataset is ET (Eastern Time = GMT-5), I would create a post at around 20:00 (= 15:00 + 5:00) to increase the chance of having a larger number of comments in my post."
   ]
  },
  {
   "cell_type": "markdown",
   "metadata": {},
   "source": [
    "---\n",
    "\n",
    "# NEXT STEPS\n",
    "\n",
    "* Determine if show or ask posts receive more points on average.\n",
    "* Determine if posts created at a certain time are more likely to receive more points.\n",
    "* Compare your results to the average number of comments and points other posts receive.\n",
    "* Use Dataquest's data science project style guide to format your project."
   ]
  }
 ],
 "metadata": {
  "kernelspec": {
   "display_name": "Python 3",
   "language": "python",
   "name": "python3"
  },
  "language_info": {
   "codemirror_mode": {
    "name": "ipython",
    "version": 3
   },
   "file_extension": ".py",
   "mimetype": "text/x-python",
   "name": "python",
   "nbconvert_exporter": "python",
   "pygments_lexer": "ipython3",
   "version": "3.4.3"
  }
 },
 "nbformat": 4,
 "nbformat_minor": 2
}
